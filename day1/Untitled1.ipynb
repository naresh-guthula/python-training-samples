{
 "cells": [
  {
   "cell_type": "code",
   "execution_count": 4,
   "metadata": {},
   "outputs": [],
   "source": [
    "s = 'pytho\\'n'"
   ]
  },
  {
   "cell_type": "code",
   "execution_count": 2,
   "metadata": {},
   "outputs": [
    {
     "data": {
      "text/plain": [
       "'t'"
      ]
     },
     "execution_count": 2,
     "metadata": {},
     "output_type": "execute_result"
    }
   ],
   "source": [
    "s[2]"
   ]
  },
  {
   "cell_type": "code",
   "execution_count": 7,
   "metadata": {},
   "outputs": [
    {
     "name": "stdout",
     "output_type": "stream",
     "text": [
      "pytho'n\n"
     ]
    }
   ],
   "source": [
    "print(s)"
   ]
  },
  {
   "cell_type": "code",
   "execution_count": 13,
   "metadata": {},
   "outputs": [
    {
     "name": "stdout",
     "output_type": "stream",
     "text": [
      "c:\\template\\rules\\bonus\\nancy\\folder99\\temp.txt\n"
     ]
    }
   ],
   "source": [
    "# raw string\n",
    "file_path = r'c:\\template\\rules\\bonus\\nancy\\folder99\\temp.txt'\n",
    "print(file_path)"
   ]
  },
  {
   "cell_type": "code",
   "execution_count": 15,
   "metadata": {},
   "outputs": [
    {
     "name": "stdout",
     "output_type": "stream",
     "text": [
      "b'peter'\n",
      "<class 'bytes'>\n",
      "peter\n",
      "b'peter'\n"
     ]
    }
   ],
   "source": [
    "# bytes\n",
    "s = b'peter'\n",
    "print(s)\n",
    "print(type(s))\n",
    "s2 = s.decode('ascii') #converting bytes info unicode\n",
    "print(s2)\n",
    "print(s2.encode('ascii')) #unicode into bytes"
   ]
  },
  {
   "cell_type": "code",
   "execution_count": 16,
   "metadata": {},
   "outputs": [
    {
     "name": "stdout",
     "output_type": "stream",
     "text": [
      "p\n"
     ]
    }
   ],
   "source": [
    "# indexing\n",
    "s = 'perl'\n",
    "print(s[0])"
   ]
  },
  {
   "cell_type": "code",
   "execution_count": 17,
   "metadata": {},
   "outputs": [
    {
     "name": "stdout",
     "output_type": "stream",
     "text": [
      "l\n"
     ]
    }
   ],
   "source": [
    "s = 'perl'\n",
    "print(s[len(s)-1])"
   ]
  },
  {
   "cell_type": "code",
   "execution_count": 18,
   "metadata": {},
   "outputs": [
    {
     "data": {
      "text/plain": [
       "'l'"
      ]
     },
     "execution_count": 18,
     "metadata": {},
     "output_type": "execute_result"
    }
   ],
   "source": [
    "s[-1]"
   ]
  },
  {
   "cell_type": "code",
   "execution_count": 19,
   "metadata": {},
   "outputs": [
    {
     "data": {
      "text/plain": [
       "'e'"
      ]
     },
     "execution_count": 19,
     "metadata": {},
     "output_type": "execute_result"
    }
   ],
   "source": [
    "s[1:2]"
   ]
  },
  {
   "cell_type": "code",
   "execution_count": 21,
   "metadata": {},
   "outputs": [
    {
     "data": {
      "text/plain": [
       "'er'"
      ]
     },
     "execution_count": 21,
     "metadata": {},
     "output_type": "execute_result"
    }
   ],
   "source": [
    "s[-4:]\n",
    "s[:]\n",
    "s[1:-1]\n",
    "\n",
    "print(s[::-1]) # name[start-index:end:frequency]"
   ]
  },
  {
   "cell_type": "code",
   "execution_count": 22,
   "metadata": {},
   "outputs": [
    {
     "data": {
      "text/plain": [
       "65"
      ]
     },
     "execution_count": 22,
     "metadata": {},
     "output_type": "execute_result"
    }
   ],
   "source": [
    "ord('A')"
   ]
  },
  {
   "cell_type": "code",
   "execution_count": 23,
   "metadata": {},
   "outputs": [
    {
     "data": {
      "text/plain": [
       "'A'"
      ]
     },
     "execution_count": 23,
     "metadata": {},
     "output_type": "execute_result"
    }
   ],
   "source": [
    "chr(65)"
   ]
  },
  {
   "cell_type": "code",
   "execution_count": 25,
   "metadata": {},
   "outputs": [
    {
     "name": "stdout",
     "output_type": "stream",
     "text": [
      "None\n"
     ]
    },
    {
     "data": {
      "text/plain": [
       "False"
      ]
     },
     "execution_count": 25,
     "metadata": {},
     "output_type": "execute_result"
    }
   ],
   "source": [
    "temp = None\n",
    "print(temp)\n",
    "bool(None)"
   ]
  },
  {
   "cell_type": "code",
   "execution_count": 26,
   "metadata": {},
   "outputs": [
    {
     "data": {
      "text/plain": [
       "True"
      ]
     },
     "execution_count": 26,
     "metadata": {},
     "output_type": "execute_result"
    }
   ],
   "source": [
    "true = True\n",
    "true == True"
   ]
  },
  {
   "cell_type": "code",
   "execution_count": 27,
   "metadata": {},
   "outputs": [
    {
     "name": "stdout",
     "output_type": "stream",
     "text": [
      "[]\n",
      "<class 'list'>\n",
      "0\n"
     ]
    }
   ],
   "source": [
    "items = []\n",
    "print(items)\n",
    "print(type(items))\n",
    "print(len(items))"
   ]
  },
  {
   "cell_type": "code",
   "execution_count": 30,
   "metadata": {},
   "outputs": [
    {
     "name": "stdout",
     "output_type": "stream",
     "text": [
      "[2.2, 'pam', 1.2, 'kim', 3, 4.5, 0.98, 'pat']\n",
      "\n",
      "[2.2, 'pam', 1.2, 'kimberly', 3, 4.5, 0.98, 'pat']\n",
      "\n",
      "[2.2, 'pam', 1.2, 'kimberly', 3, 4.5, 0.98, 'pat', 'stat']\n",
      "\n",
      "['mumbai', 2.2, 'pam', 1.2, 'kimberly', 3, 4.5, 0.98, 'pat', 'stat']\n",
      "\n"
     ]
    }
   ],
   "source": [
    "items = [2.2, 'pam', 1.2, 'kim', 3, 4.5, 0.98, 'pat']\n",
    "print(items)\n",
    "print()\n",
    "\n",
    "items[-5] = 'kimberly' # update\n",
    "print(items)\n",
    "print()\n",
    "\n",
    "items.append('stat')\n",
    "print(items)\n",
    "print()\n",
    "\n",
    "items.insert(0, 'mumbai')\n",
    "print(items)\n",
    "print()\n"
   ]
  },
  {
   "cell_type": "code",
   "execution_count": null,
   "metadata": {},
   "outputs": [],
   "source": [
    "items = [2.2, 'pam', 1.2, 'kim', 3, 4.5, 0.98, 'pat']\n",
    "# delete by index\n",
    "value = pop() # last element\n",
    "value = pop(-5)\n",
    "print(items)\n",
    "\n"
   ]
  },
  {
   "cell_type": "code",
   "execution_count": 31,
   "metadata": {},
   "outputs": [
    {
     "name": "stdout",
     "output_type": "stream",
     "text": [
      "[2.2, 1.2, 'kim', 3, 4.5, 0.98, 'pat']\n"
     ]
    }
   ],
   "source": [
    "items = [2.2, 'pam', 1.2, 'kim', 3, 4.5, 0.98, 'pat']\n",
    "#delete by value\n",
    "items.remove('pam') #deletes only first occurrence\n",
    "\n",
    "temp = 'pam'\n",
    "\n",
    "while temp in items:\n",
    "    items.remove('pam')\n",
    "    \n",
    "print(items)"
   ]
  },
  {
   "cell_type": "code",
   "execution_count": 35,
   "metadata": {},
   "outputs": [
    {
     "name": "stdout",
     "output_type": "stream",
     "text": [
      "[2.2, 1.2, 3, 2.2, 1.2, 3]\n",
      "[2.2, 1.2, 3, 2.2, 1.2, 3]\n"
     ]
    }
   ],
   "source": [
    "tiny = [2.2, 1.2, 3]\n",
    "print(tiny + tiny)\n",
    "print(tiny*2)"
   ]
  },
  {
   "cell_type": "code",
   "execution_count": 33,
   "metadata": {},
   "outputs": [
    {
     "name": "stdout",
     "output_type": "stream",
     "text": [
      "0 p\n",
      "1 e\n",
      "2 t\n",
      "3 e\n",
      "4 r\n"
     ]
    }
   ],
   "source": [
    "for index, value in enumerate('peter'):\n",
    "    print(index, value)"
   ]
  },
  {
   "cell_type": "code",
   "execution_count": 37,
   "metadata": {},
   "outputs": [
    {
     "name": "stdout",
     "output_type": "stream",
     "text": [
      "[1.2, 2.2, 5.5]\n"
     ]
    }
   ],
   "source": [
    "duplicates = [2.2, 1.2, 5.5, 2.2, 1.2, 5.5]\n",
    "print(list(set(duplicates)))"
   ]
  },
  {
   "cell_type": "code",
   "execution_count": 38,
   "metadata": {},
   "outputs": [
    {
     "name": "stdout",
     "output_type": "stream",
     "text": [
      "None\n"
     ]
    }
   ],
   "source": [
    "duplicates = [2.2, 1.2, 5.5, 2.2, 1.2, 5.5]\n",
    "print(duplicates.sort()) #implicit %edit\n",
    "print(duplicates)\n",
    "duplicates.sort(reverse=True)\n",
    "print(duplicates)\n",
    "duplicates.reverse()\n",
    "print(duplicates)"
   ]
  },
  {
   "cell_type": "code",
   "execution_count": 42,
   "metadata": {},
   "outputs": [
    {
     "name": "stdout",
     "output_type": "stream",
     "text": [
      "['root', 'x', '0', 'test']\n"
     ]
    }
   ],
   "source": [
    "s= 'root:x:0:test'\n",
    "delimiter = ':'\n",
    "items = s.split(delimiter)\n",
    "print(items)"
   ]
  },
  {
   "cell_type": "code",
   "execution_count": 46,
   "metadata": {},
   "outputs": [
    {
     "name": "stdout",
     "output_type": "stream",
     "text": [
      "[[1, 2, 3], [1, 2, 3], [1, 2, 3], 10]\n",
      "1\t2\t3\t1\t2\t3\t1\t2\t3\t"
     ]
    },
    {
     "ename": "TypeError",
     "evalue": "'int' object is not iterable",
     "traceback": [
      "\u001b[1;31m---------------------------------------------------------------------------\u001b[0m",
      "\u001b[1;31mTypeError\u001b[0m                                 Traceback (most recent call last)",
      "\u001b[1;32m<ipython-input-46-4cd757c34023>\u001b[0m in \u001b[0;36m<module>\u001b[1;34m()\u001b[0m\n\u001b[0;32m      5\u001b[0m \u001b[1;31m#iterate\u001b[0m\u001b[1;33m\u001b[0m\u001b[1;33m\u001b[0m\u001b[0m\n\u001b[0;32m      6\u001b[0m \u001b[1;32mfor\u001b[0m \u001b[0mrow\u001b[0m \u001b[1;32min\u001b[0m \u001b[0mmat\u001b[0m\u001b[1;33m:\u001b[0m\u001b[1;33m\u001b[0m\u001b[0m\n\u001b[1;32m----> 7\u001b[1;33m     \u001b[1;32mfor\u001b[0m \u001b[0mcol\u001b[0m \u001b[1;32min\u001b[0m \u001b[0mrow\u001b[0m\u001b[1;33m:\u001b[0m\u001b[1;33m\u001b[0m\u001b[0m\n\u001b[0m\u001b[0;32m      8\u001b[0m         \u001b[0mprint\u001b[0m\u001b[1;33m(\u001b[0m\u001b[0mcol\u001b[0m\u001b[1;33m,\u001b[0m \u001b[0mend\u001b[0m\u001b[1;33m=\u001b[0m\u001b[1;34m'\\t'\u001b[0m\u001b[1;33m)\u001b[0m\u001b[1;33m\u001b[0m\u001b[0m\n",
      "\u001b[1;31mTypeError\u001b[0m: 'int' object is not iterable"
     ],
     "output_type": "error"
    }
   ],
   "source": [
    "mat = [[1,2,3],[1,2,3],[1,2,3]]\n",
    "mat.append(10)\n",
    "print(mat)\n",
    "\n",
    "#iterate\n",
    "for row in mat:\n",
    "    for col in row:\n",
    "        print(col, end='\\t')"
   ]
  },
  {
   "cell_type": "code",
   "execution_count": 47,
   "metadata": {},
   "outputs": [
    {
     "name": "stdout",
     "output_type": "stream",
     "text": [
      "['allen', 'joe', 'neil', 'pam', 'tim']\n"
     ]
    }
   ],
   "source": [
    "names = ['pam', 'allen', 'tim', 'neil', 'joe']\n",
    "names.sort()\n",
    "print(names)"
   ]
  },
  {
   "cell_type": "code",
   "execution_count": 48,
   "metadata": {},
   "outputs": [],
   "source": [
    "list.sort?"
   ]
  },
  {
   "cell_type": "code",
   "execution_count": 50,
   "metadata": {},
   "outputs": [
    {
     "name": "stdout",
     "output_type": "stream",
     "text": [
      "['pam', 'neil', 'tim', 'allen', 'joe']\n"
     ]
    }
   ],
   "source": [
    "names = ['pam', 'allen', 'tim', 'neil', 'joe']\n",
    "\n",
    "def by_second(name):\n",
    "    return name[1]\n",
    "\n",
    "names.sort(key=by_second)\n",
    "print(names)\n",
    "\n",
    "\"\"\" lambda\n",
    "\n",
    "syntan:- \n",
    "    lamda arg1, arg2.....: expression\n",
    "\"\"\"\n",
    "names.sort(key=lambda name: name[1])"
   ]
  },
  {
   "cell_type": "code",
   "execution_count": 52,
   "metadata": {},
   "outputs": [
    {
     "name": "stdout",
     "output_type": "stream",
     "text": [
      "{}\n",
      "<class 'dict'>\n",
      "0\n"
     ]
    }
   ],
   "source": [
    "# dict aka hash, map, 9=[key, value] pair\n",
    "# dict aka unordered collections\n",
    "info = {}\n",
    "print(info)\n",
    "print(type(info))\n",
    "print(len(info))"
   ]
  },
  {
   "cell_type": "code",
   "execution_count": 62,
   "metadata": {},
   "outputs": [
    {
     "name": "stdout",
     "output_type": "stream",
     "text": [
      "{'host': 'wsl', 'domain': 'roocap.in', 'desc': 3.7}\n",
      "{'host': 'wsl', 'domain': 'roocap.in', 'desc': 3.7, 'arch': 'x86 64'}\n",
      "{'host': 'wsl', 'domain': 'roocap.in', 'desc': 3.7}\n",
      "roocap.in\n",
      "tomcat\n"
     ]
    }
   ],
   "source": [
    "info = {'host':'wsl',\n",
    "       'domain':'roocap.in',\n",
    "       'desc': 'web server'}\n",
    "\n",
    "item = 'desc'\n",
    "\n",
    "if item in info:\n",
    "    info[item] = 3.7 # update\n",
    "print(info)\n",
    "\n",
    "info['arch']= 'x86 64'\n",
    "print(info)\n",
    "\n",
    "info.pop('arch')\n",
    "print(info)\n",
    "\n",
    "print(info['domain'])\n",
    "print(info.get('apps'))   #[] lookup fails if not present, \n",
    "print(info.get('apps', 'tomcat')) # second param is used to specify default value\n",
    "# add\n",
    "# update\n",
    "# delete\n",
    "#lookup aka read\n",
    "# iterate"
   ]
  },
  {
   "cell_type": "code",
   "execution_count": 67,
   "metadata": {},
   "outputs": [
    {
     "name": "stdout",
     "output_type": "stream",
     "text": [
      "dict_keys(['host', 'domain', 'desc'])\n",
      "dict_values(['wsl', 'roocap.in', 'web server'])\n",
      "dict_items([('host', 'wsl'), ('domain', 'roocap.in'), ('desc', 'web server')])\n",
      "host\n",
      "domain\n",
      "desc\n",
      "host : wsl\n",
      "domain : roocap.in\n",
      "desc : web server\n",
      "host : wsl\n",
      "domain : roocap.in\n",
      "desc : web server\n"
     ]
    }
   ],
   "source": [
    "info = {'host':'wsl',\n",
    "       'domain':'roocap.in',\n",
    "       'desc': 'web server'}\n",
    "\n",
    "print(info.keys())\n",
    "\n",
    "print(info.values())\n",
    "\n",
    "print(info.items())\n",
    "\n",
    "for item in info:\n",
    "    print(item)\n",
    "    \n",
    "for key,value in info.items():\n",
    "    print(key, ':', value)  \n",
    "    \n",
    "for item in info.items():\n",
    "    print(item[0], ':', item[1]) "
   ]
  },
  {
   "cell_type": "code",
   "execution_count": null,
   "metadata": {},
   "outputs": [],
   "source": [
    "# github.com/ravijaya/datafiles"
   ]
  },
  {
   "cell_type": "code",
   "execution_count": 69,
   "metadata": {},
   "outputs": [
    {
     "name": "stdout",
     "output_type": "stream",
     "text": [
      "<class 'tuple'>\n"
     ]
    }
   ],
   "source": [
    "t = (1, 'abc', 9.9)\n",
    "print(type(t))\n",
    "\n",
    "name = \"test\", \"sam\", \"tom\"\n",
    "type(name)\n",
    "\n",
    "# single element tuple\n",
    "n = (1000,)\n",
    "t = 'test',"
   ]
  },
  {
   "cell_type": "code",
   "execution_count": 70,
   "metadata": {},
   "outputs": [
    {
     "name": "stdout",
     "output_type": "stream",
     "text": [
      "same\n"
     ]
    }
   ],
   "source": [
    "# applications\n",
    "# unpacking aka paraller assignments\n",
    "\n",
    "name, age, gender = 'same', 3, 'female'\n",
    "print(name)"
   ]
  },
  {
   "cell_type": "code",
   "execution_count": null,
   "metadata": {},
   "outputs": [],
   "source": [
    "# function to return multiple values\n",
    "print(divmod(8, 5))\n",
    "print()\n",
    "\n",
    "a, r = divmod(8,5)"
   ]
  },
  {
   "cell_type": "code",
   "execution_count": null,
   "metadata": {},
   "outputs": [],
   "source": [
    "def sqr_n_cube(value):\n",
    "    return value**2, value **3\n",
    "\n",
    "print(sql_n_cube(5))"
   ]
  },
  {
   "cell_type": "code",
   "execution_count": 73,
   "metadata": {},
   "outputs": [
    {
     "name": "stdout",
     "output_type": "stream",
     "text": [
      "{1, 3, 5}\n",
      "{1, 3, 5}\n",
      "[1, 3, 5]\n",
      "{1, 2, 3, 4, 5, 7, 9}\n",
      "{1, 2, 3, 4, 5, 7, 9}\n",
      "{2, 4}\n",
      "{9, 7}\n"
     ]
    }
   ],
   "source": [
    "items1 = [1,2,3,4,5]\n",
    "items2 = [1, 3, 5, 7, 9]\n",
    "\n",
    "x =set(items1)\n",
    "y = set(items2)\n",
    "\n",
    "print(x & y)\n",
    "print(x.intersection(y))\n",
    "\n",
    "print(list(x.intersection(y)))\n",
    "\n",
    "print(x | y)\n",
    "print(x.union(y))\n",
    "\n",
    "print(x.difference(y))\n",
    "print(y - x)"
   ]
  },
  {
   "cell_type": "code",
   "execution_count": 80,
   "metadata": {},
   "outputs": [
    {
     "name": "stdout",
     "output_type": "stream",
     "text": [
      "['0x2', '0x1', '0x4', '0x5', '0x3', '0x5', '0x3', '0x6', '0x6']\n",
      "['0x2', '0x1', '0x4', '0x5', '0x3', '0x5', '0x3', '0x6', '0x6']\n",
      "[1, 5, 3, 5, 3]\n",
      "[2, 4, 6, 6]\n",
      "[2, '0b1', 4, '0b101', '0b11', '0b101', '0b11', 6, 6]\n"
     ]
    }
   ],
   "source": [
    "items = [2, 1, 4, 5, 3, 5, 3, 6, 6]\n",
    "\n",
    "# List comprension\n",
    "temp = list()\n",
    "\n",
    "for item in items:\n",
    "    temp.append(hex(item))\n",
    "    \n",
    "print(temp)\n",
    "\n",
    "\n",
    "temp2 = [hex(item) for item in items]\n",
    "print(temp)\n",
    "\n",
    "# compund list comprehension\n",
    "\n",
    "items = [2, 1, 4, 5, 3, 5, 3, 6, 6]\n",
    "oddNumber = [i for i in items if i%2]\n",
    "print(oddNumber)\n",
    "oddNumber = [i  for i in items if i%2==0]\n",
    "print(oddNumber)\n",
    "oddNumber = [i if i%2==0 else bin(i) for i in items]\n",
    "print(oddNumber)"
   ]
  },
  {
   "cell_type": "code",
   "execution_count": 84,
   "metadata": {},
   "outputs": [
    {
     "name": "stdout",
     "output_type": "stream",
     "text": [
      "{2: '0x2', 1: '0x1', 3: '0x3', 4: '0x4', 6: '0x6'}\n"
     ]
    }
   ],
   "source": [
    "# dictionary comprehension\n",
    "items = [2,1,3,4,6,6]\n",
    "temp = {item: hex(item) for item in items}\n",
    "print(temp)"
   ]
  },
  {
   "cell_type": "code",
   "execution_count": null,
   "metadata": {},
   "outputs": [],
   "source": []
  }
 ],
 "metadata": {
  "kernelspec": {
   "display_name": "Python 3",
   "language": "python",
   "name": "python3"
  },
  "language_info": {
   "codemirror_mode": {
    "name": "ipython",
    "version": 3
   },
   "file_extension": ".py",
   "mimetype": "text/x-python",
   "name": "python",
   "nbconvert_exporter": "python",
   "pygments_lexer": "ipython3",
   "version": "3.7.0"
  }
 },
 "nbformat": 4,
 "nbformat_minor": 2
}
